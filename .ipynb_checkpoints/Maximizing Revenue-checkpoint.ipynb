{
 "cells": [
  {
   "cell_type": "markdown",
   "id": "19cfc088",
   "metadata": {},
   "source": [
    "# Maximizing Revenue for Taxi Cab Drivers Through Payment Type Analysis"
   ]
  },
  {
   "cell_type": "markdown",
   "id": "bc3b1bb7",
   "metadata": {},
   "source": [
    "# Problem Statement\n",
    "In the fast-paced taxi booking sector, making the most of revenue is essential for long-term success and driver happiness. Our goal is to use data-driven insights to maximise revenue streams for taxi drivers in order to meet this need. Our research aims to determine whether payment methods have an impact on fare pricing by focusing on the relationship between payment type and fare amount.\n",
    "\n",
    "\n",
    "# Objective\n",
    "This project's main goal is to run an A/B test to examine the relationship between the total fare and the method of payment. We use Python hypothesis testing and descriptive statistics to extract useful information that can help taxi drivers generate more cash. In particular, we want to find out if there is a big difference in the fares for those who pay with credit cards versus those who pay with cash.\n",
    "\n",
    "\n",
    "# Research Question\n",
    "Is there a relationship between total fare amount and payment type and can we nudge customers towards payment methods that generate higher revenue for drivers, without negatively impacting customer experience?"
   ]
  },
  {
   "cell_type": "markdown",
   "id": "422a728a",
   "metadata": {},
   "source": [
    "# Importing Libraries"
   ]
  },
  {
   "cell_type": "code",
   "execution_count": 3,
   "id": "8431c8ca",
   "metadata": {},
   "outputs": [],
   "source": [
    "import pandas as pd\n",
    "import matplotlib.pyplot as plt\n",
    "import seaborn as sns\n",
    "import scipy.stats as st\n",
    "import statsmodels.api as sm\n",
    "import pyarrow.parquet as pq\n",
    "import warnings\n",
    "warnings.filterwarnings('ignore')\n",
    "\n",
    "from IPython.display import Markdown as md"
   ]
  },
  {
   "cell_type": "code",
   "execution_count": 4,
   "id": "f3024c71",
   "metadata": {},
   "outputs": [],
   "source": [
    "df = pq.read_table(r\"D:\\UNH Materials\\Projects\\Maximizing-revenue\\data\\yellow_tripdata_2023-01.parquet\")\n",
    "df= df.to_pandas()"
   ]
  },
  {
   "cell_type": "code",
   "execution_count": 5,
   "id": "aeb73cbe",
   "metadata": {},
   "outputs": [
    {
     "data": {
      "text/html": [
       "<div>\n",
       "<style scoped>\n",
       "    .dataframe tbody tr th:only-of-type {\n",
       "        vertical-align: middle;\n",
       "    }\n",
       "\n",
       "    .dataframe tbody tr th {\n",
       "        vertical-align: top;\n",
       "    }\n",
       "\n",
       "    .dataframe thead th {\n",
       "        text-align: right;\n",
       "    }\n",
       "</style>\n",
       "<table border=\"1\" class=\"dataframe\">\n",
       "  <thead>\n",
       "    <tr style=\"text-align: right;\">\n",
       "      <th></th>\n",
       "      <th>VendorID</th>\n",
       "      <th>tpep_pickup_datetime</th>\n",
       "      <th>tpep_dropoff_datetime</th>\n",
       "      <th>passenger_count</th>\n",
       "      <th>trip_distance</th>\n",
       "      <th>RatecodeID</th>\n",
       "      <th>store_and_fwd_flag</th>\n",
       "      <th>PULocationID</th>\n",
       "      <th>DOLocationID</th>\n",
       "      <th>payment_type</th>\n",
       "      <th>fare_amount</th>\n",
       "      <th>extra</th>\n",
       "      <th>mta_tax</th>\n",
       "      <th>tip_amount</th>\n",
       "      <th>tolls_amount</th>\n",
       "      <th>improvement_surcharge</th>\n",
       "      <th>total_amount</th>\n",
       "      <th>congestion_surcharge</th>\n",
       "      <th>airport_fee</th>\n",
       "    </tr>\n",
       "  </thead>\n",
       "  <tbody>\n",
       "    <tr>\n",
       "      <th>0</th>\n",
       "      <td>2</td>\n",
       "      <td>2023-01-01 00:32:10</td>\n",
       "      <td>2023-01-01 00:40:36</td>\n",
       "      <td>1.0</td>\n",
       "      <td>0.97</td>\n",
       "      <td>1.0</td>\n",
       "      <td>N</td>\n",
       "      <td>161</td>\n",
       "      <td>141</td>\n",
       "      <td>2</td>\n",
       "      <td>9.3</td>\n",
       "      <td>1.00</td>\n",
       "      <td>0.5</td>\n",
       "      <td>0.00</td>\n",
       "      <td>0.0</td>\n",
       "      <td>1.0</td>\n",
       "      <td>14.30</td>\n",
       "      <td>2.5</td>\n",
       "      <td>0.00</td>\n",
       "    </tr>\n",
       "    <tr>\n",
       "      <th>1</th>\n",
       "      <td>2</td>\n",
       "      <td>2023-01-01 00:55:08</td>\n",
       "      <td>2023-01-01 01:01:27</td>\n",
       "      <td>1.0</td>\n",
       "      <td>1.10</td>\n",
       "      <td>1.0</td>\n",
       "      <td>N</td>\n",
       "      <td>43</td>\n",
       "      <td>237</td>\n",
       "      <td>1</td>\n",
       "      <td>7.9</td>\n",
       "      <td>1.00</td>\n",
       "      <td>0.5</td>\n",
       "      <td>4.00</td>\n",
       "      <td>0.0</td>\n",
       "      <td>1.0</td>\n",
       "      <td>16.90</td>\n",
       "      <td>2.5</td>\n",
       "      <td>0.00</td>\n",
       "    </tr>\n",
       "    <tr>\n",
       "      <th>2</th>\n",
       "      <td>2</td>\n",
       "      <td>2023-01-01 00:25:04</td>\n",
       "      <td>2023-01-01 00:37:49</td>\n",
       "      <td>1.0</td>\n",
       "      <td>2.51</td>\n",
       "      <td>1.0</td>\n",
       "      <td>N</td>\n",
       "      <td>48</td>\n",
       "      <td>238</td>\n",
       "      <td>1</td>\n",
       "      <td>14.9</td>\n",
       "      <td>1.00</td>\n",
       "      <td>0.5</td>\n",
       "      <td>15.00</td>\n",
       "      <td>0.0</td>\n",
       "      <td>1.0</td>\n",
       "      <td>34.90</td>\n",
       "      <td>2.5</td>\n",
       "      <td>0.00</td>\n",
       "    </tr>\n",
       "    <tr>\n",
       "      <th>3</th>\n",
       "      <td>1</td>\n",
       "      <td>2023-01-01 00:03:48</td>\n",
       "      <td>2023-01-01 00:13:25</td>\n",
       "      <td>0.0</td>\n",
       "      <td>1.90</td>\n",
       "      <td>1.0</td>\n",
       "      <td>N</td>\n",
       "      <td>138</td>\n",
       "      <td>7</td>\n",
       "      <td>1</td>\n",
       "      <td>12.1</td>\n",
       "      <td>7.25</td>\n",
       "      <td>0.5</td>\n",
       "      <td>0.00</td>\n",
       "      <td>0.0</td>\n",
       "      <td>1.0</td>\n",
       "      <td>20.85</td>\n",
       "      <td>0.0</td>\n",
       "      <td>1.25</td>\n",
       "    </tr>\n",
       "    <tr>\n",
       "      <th>4</th>\n",
       "      <td>2</td>\n",
       "      <td>2023-01-01 00:10:29</td>\n",
       "      <td>2023-01-01 00:21:19</td>\n",
       "      <td>1.0</td>\n",
       "      <td>1.43</td>\n",
       "      <td>1.0</td>\n",
       "      <td>N</td>\n",
       "      <td>107</td>\n",
       "      <td>79</td>\n",
       "      <td>1</td>\n",
       "      <td>11.4</td>\n",
       "      <td>1.00</td>\n",
       "      <td>0.5</td>\n",
       "      <td>3.28</td>\n",
       "      <td>0.0</td>\n",
       "      <td>1.0</td>\n",
       "      <td>19.68</td>\n",
       "      <td>2.5</td>\n",
       "      <td>0.00</td>\n",
       "    </tr>\n",
       "  </tbody>\n",
       "</table>\n",
       "</div>"
      ],
      "text/plain": [
       "   VendorID tpep_pickup_datetime tpep_dropoff_datetime  passenger_count  \\\n",
       "0         2  2023-01-01 00:32:10   2023-01-01 00:40:36              1.0   \n",
       "1         2  2023-01-01 00:55:08   2023-01-01 01:01:27              1.0   \n",
       "2         2  2023-01-01 00:25:04   2023-01-01 00:37:49              1.0   \n",
       "3         1  2023-01-01 00:03:48   2023-01-01 00:13:25              0.0   \n",
       "4         2  2023-01-01 00:10:29   2023-01-01 00:21:19              1.0   \n",
       "\n",
       "   trip_distance  RatecodeID store_and_fwd_flag  PULocationID  DOLocationID  \\\n",
       "0           0.97         1.0                  N           161           141   \n",
       "1           1.10         1.0                  N            43           237   \n",
       "2           2.51         1.0                  N            48           238   \n",
       "3           1.90         1.0                  N           138             7   \n",
       "4           1.43         1.0                  N           107            79   \n",
       "\n",
       "   payment_type  fare_amount  extra  mta_tax  tip_amount  tolls_amount  \\\n",
       "0             2          9.3   1.00      0.5        0.00           0.0   \n",
       "1             1          7.9   1.00      0.5        4.00           0.0   \n",
       "2             1         14.9   1.00      0.5       15.00           0.0   \n",
       "3             1         12.1   7.25      0.5        0.00           0.0   \n",
       "4             1         11.4   1.00      0.5        3.28           0.0   \n",
       "\n",
       "   improvement_surcharge  total_amount  congestion_surcharge  airport_fee  \n",
       "0                    1.0         14.30                   2.5         0.00  \n",
       "1                    1.0         16.90                   2.5         0.00  \n",
       "2                    1.0         34.90                   2.5         0.00  \n",
       "3                    1.0         20.85                   0.0         1.25  \n",
       "4                    1.0         19.68                   2.5         0.00  "
      ]
     },
     "execution_count": 5,
     "metadata": {},
     "output_type": "execute_result"
    }
   ],
   "source": [
    "df.head()"
   ]
  },
  {
   "cell_type": "markdown",
   "id": "bce8f8eb",
   "metadata": {},
   "source": [
    "# Data Overview\n",
    "\n",
    "For this analysis, we utilized the comprehensive dataset of NYC Taxi Trip records, used data cleaning and feature engineering procedures to concentrate solely on the relevant columns essential for our analysis.\n",
    "\n",
    "<b> Relevant columns used for this research: </b>\n",
    "- passenger_count (1 to 5)\n",
    "- payment_type (card or cash)\n",
    "- total_amount\n",
    "- trip_distance (miles)\n",
    "- duration (minutes)"
   ]
  },
  {
   "cell_type": "markdown",
   "id": "e7369c34",
   "metadata": {},
   "source": [
    "# Exploratory Data Analysis"
   ]
  },
  {
   "cell_type": "code",
   "execution_count": 6,
   "id": "ddf01854",
   "metadata": {},
   "outputs": [
    {
     "data": {
      "text/plain": [
       "(3066766, 19)"
      ]
     },
     "execution_count": 6,
     "metadata": {},
     "output_type": "execute_result"
    }
   ],
   "source": [
    "df.shape"
   ]
  },
  {
   "cell_type": "code",
   "execution_count": 7,
   "id": "d319c687",
   "metadata": {},
   "outputs": [
    {
     "data": {
      "text/plain": [
       "VendorID                          int64\n",
       "tpep_pickup_datetime     datetime64[ns]\n",
       "tpep_dropoff_datetime    datetime64[ns]\n",
       "passenger_count                 float64\n",
       "trip_distance                   float64\n",
       "RatecodeID                      float64\n",
       "store_and_fwd_flag               object\n",
       "PULocationID                      int64\n",
       "DOLocationID                      int64\n",
       "payment_type                      int64\n",
       "fare_amount                     float64\n",
       "extra                           float64\n",
       "mta_tax                         float64\n",
       "tip_amount                      float64\n",
       "tolls_amount                    float64\n",
       "improvement_surcharge           float64\n",
       "total_amount                    float64\n",
       "congestion_surcharge            float64\n",
       "airport_fee                     float64\n",
       "dtype: object"
      ]
     },
     "execution_count": 7,
     "metadata": {},
     "output_type": "execute_result"
    }
   ],
   "source": [
    "df.dtypes"
   ]
  },
  {
   "cell_type": "code",
   "execution_count": 8,
   "id": "ce745736",
   "metadata": {},
   "outputs": [],
   "source": [
    "# Calculate duration\n",
    "\n",
    "df['duration'] = df['tpep_dropoff_datetime'] - df['tpep_pickup_datetime']\n",
    "df['duration'] = df['duration'].dt.total_seconds()/60"
   ]
  },
  {
   "cell_type": "code",
   "execution_count": 9,
   "id": "aa381466",
   "metadata": {},
   "outputs": [
    {
     "data": {
      "text/html": [
       "<div>\n",
       "<style scoped>\n",
       "    .dataframe tbody tr th:only-of-type {\n",
       "        vertical-align: middle;\n",
       "    }\n",
       "\n",
       "    .dataframe tbody tr th {\n",
       "        vertical-align: top;\n",
       "    }\n",
       "\n",
       "    .dataframe thead th {\n",
       "        text-align: right;\n",
       "    }\n",
       "</style>\n",
       "<table border=\"1\" class=\"dataframe\">\n",
       "  <thead>\n",
       "    <tr style=\"text-align: right;\">\n",
       "      <th></th>\n",
       "      <th>VendorID</th>\n",
       "      <th>tpep_pickup_datetime</th>\n",
       "      <th>tpep_dropoff_datetime</th>\n",
       "      <th>passenger_count</th>\n",
       "      <th>trip_distance</th>\n",
       "      <th>RatecodeID</th>\n",
       "      <th>store_and_fwd_flag</th>\n",
       "      <th>PULocationID</th>\n",
       "      <th>DOLocationID</th>\n",
       "      <th>payment_type</th>\n",
       "      <th>fare_amount</th>\n",
       "      <th>extra</th>\n",
       "      <th>mta_tax</th>\n",
       "      <th>tip_amount</th>\n",
       "      <th>tolls_amount</th>\n",
       "      <th>improvement_surcharge</th>\n",
       "      <th>total_amount</th>\n",
       "      <th>congestion_surcharge</th>\n",
       "      <th>airport_fee</th>\n",
       "      <th>duration</th>\n",
       "    </tr>\n",
       "  </thead>\n",
       "  <tbody>\n",
       "    <tr>\n",
       "      <th>0</th>\n",
       "      <td>2</td>\n",
       "      <td>2023-01-01 00:32:10</td>\n",
       "      <td>2023-01-01 00:40:36</td>\n",
       "      <td>1.0</td>\n",
       "      <td>0.97</td>\n",
       "      <td>1.0</td>\n",
       "      <td>N</td>\n",
       "      <td>161</td>\n",
       "      <td>141</td>\n",
       "      <td>2</td>\n",
       "      <td>9.3</td>\n",
       "      <td>1.00</td>\n",
       "      <td>0.5</td>\n",
       "      <td>0.00</td>\n",
       "      <td>0.0</td>\n",
       "      <td>1.0</td>\n",
       "      <td>14.30</td>\n",
       "      <td>2.5</td>\n",
       "      <td>0.00</td>\n",
       "      <td>8.433333</td>\n",
       "    </tr>\n",
       "    <tr>\n",
       "      <th>1</th>\n",
       "      <td>2</td>\n",
       "      <td>2023-01-01 00:55:08</td>\n",
       "      <td>2023-01-01 01:01:27</td>\n",
       "      <td>1.0</td>\n",
       "      <td>1.10</td>\n",
       "      <td>1.0</td>\n",
       "      <td>N</td>\n",
       "      <td>43</td>\n",
       "      <td>237</td>\n",
       "      <td>1</td>\n",
       "      <td>7.9</td>\n",
       "      <td>1.00</td>\n",
       "      <td>0.5</td>\n",
       "      <td>4.00</td>\n",
       "      <td>0.0</td>\n",
       "      <td>1.0</td>\n",
       "      <td>16.90</td>\n",
       "      <td>2.5</td>\n",
       "      <td>0.00</td>\n",
       "      <td>6.316667</td>\n",
       "    </tr>\n",
       "    <tr>\n",
       "      <th>2</th>\n",
       "      <td>2</td>\n",
       "      <td>2023-01-01 00:25:04</td>\n",
       "      <td>2023-01-01 00:37:49</td>\n",
       "      <td>1.0</td>\n",
       "      <td>2.51</td>\n",
       "      <td>1.0</td>\n",
       "      <td>N</td>\n",
       "      <td>48</td>\n",
       "      <td>238</td>\n",
       "      <td>1</td>\n",
       "      <td>14.9</td>\n",
       "      <td>1.00</td>\n",
       "      <td>0.5</td>\n",
       "      <td>15.00</td>\n",
       "      <td>0.0</td>\n",
       "      <td>1.0</td>\n",
       "      <td>34.90</td>\n",
       "      <td>2.5</td>\n",
       "      <td>0.00</td>\n",
       "      <td>12.750000</td>\n",
       "    </tr>\n",
       "    <tr>\n",
       "      <th>3</th>\n",
       "      <td>1</td>\n",
       "      <td>2023-01-01 00:03:48</td>\n",
       "      <td>2023-01-01 00:13:25</td>\n",
       "      <td>0.0</td>\n",
       "      <td>1.90</td>\n",
       "      <td>1.0</td>\n",
       "      <td>N</td>\n",
       "      <td>138</td>\n",
       "      <td>7</td>\n",
       "      <td>1</td>\n",
       "      <td>12.1</td>\n",
       "      <td>7.25</td>\n",
       "      <td>0.5</td>\n",
       "      <td>0.00</td>\n",
       "      <td>0.0</td>\n",
       "      <td>1.0</td>\n",
       "      <td>20.85</td>\n",
       "      <td>0.0</td>\n",
       "      <td>1.25</td>\n",
       "      <td>9.616667</td>\n",
       "    </tr>\n",
       "    <tr>\n",
       "      <th>4</th>\n",
       "      <td>2</td>\n",
       "      <td>2023-01-01 00:10:29</td>\n",
       "      <td>2023-01-01 00:21:19</td>\n",
       "      <td>1.0</td>\n",
       "      <td>1.43</td>\n",
       "      <td>1.0</td>\n",
       "      <td>N</td>\n",
       "      <td>107</td>\n",
       "      <td>79</td>\n",
       "      <td>1</td>\n",
       "      <td>11.4</td>\n",
       "      <td>1.00</td>\n",
       "      <td>0.5</td>\n",
       "      <td>3.28</td>\n",
       "      <td>0.0</td>\n",
       "      <td>1.0</td>\n",
       "      <td>19.68</td>\n",
       "      <td>2.5</td>\n",
       "      <td>0.00</td>\n",
       "      <td>10.833333</td>\n",
       "    </tr>\n",
       "  </tbody>\n",
       "</table>\n",
       "</div>"
      ],
      "text/plain": [
       "   VendorID tpep_pickup_datetime tpep_dropoff_datetime  passenger_count  \\\n",
       "0         2  2023-01-01 00:32:10   2023-01-01 00:40:36              1.0   \n",
       "1         2  2023-01-01 00:55:08   2023-01-01 01:01:27              1.0   \n",
       "2         2  2023-01-01 00:25:04   2023-01-01 00:37:49              1.0   \n",
       "3         1  2023-01-01 00:03:48   2023-01-01 00:13:25              0.0   \n",
       "4         2  2023-01-01 00:10:29   2023-01-01 00:21:19              1.0   \n",
       "\n",
       "   trip_distance  RatecodeID store_and_fwd_flag  PULocationID  DOLocationID  \\\n",
       "0           0.97         1.0                  N           161           141   \n",
       "1           1.10         1.0                  N            43           237   \n",
       "2           2.51         1.0                  N            48           238   \n",
       "3           1.90         1.0                  N           138             7   \n",
       "4           1.43         1.0                  N           107            79   \n",
       "\n",
       "   payment_type  fare_amount  extra  mta_tax  tip_amount  tolls_amount  \\\n",
       "0             2          9.3   1.00      0.5        0.00           0.0   \n",
       "1             1          7.9   1.00      0.5        4.00           0.0   \n",
       "2             1         14.9   1.00      0.5       15.00           0.0   \n",
       "3             1         12.1   7.25      0.5        0.00           0.0   \n",
       "4             1         11.4   1.00      0.5        3.28           0.0   \n",
       "\n",
       "   improvement_surcharge  total_amount  congestion_surcharge  airport_fee  \\\n",
       "0                    1.0         14.30                   2.5         0.00   \n",
       "1                    1.0         16.90                   2.5         0.00   \n",
       "2                    1.0         34.90                   2.5         0.00   \n",
       "3                    1.0         20.85                   0.0         1.25   \n",
       "4                    1.0         19.68                   2.5         0.00   \n",
       "\n",
       "    duration  \n",
       "0   8.433333  \n",
       "1   6.316667  \n",
       "2  12.750000  \n",
       "3   9.616667  \n",
       "4  10.833333  "
      ]
     },
     "execution_count": 9,
     "metadata": {},
     "output_type": "execute_result"
    }
   ],
   "source": [
    "df.head()"
   ]
  },
  {
   "cell_type": "code",
   "execution_count": 10,
   "id": "31870396",
   "metadata": {},
   "outputs": [],
   "source": [
    "df = df[['passenger_count', 'payment_type', 'total_amount', 'trip_distance', 'duration']]"
   ]
  },
  {
   "cell_type": "code",
   "execution_count": 11,
   "id": "80dcd968",
   "metadata": {},
   "outputs": [
    {
     "data": {
      "text/plain": [
       "passenger_count    71743\n",
       "payment_type           0\n",
       "total_amount           0\n",
       "trip_distance          0\n",
       "duration               0\n",
       "dtype: int64"
      ]
     },
     "execution_count": 11,
     "metadata": {},
     "output_type": "execute_result"
    }
   ],
   "source": [
    "# Check missing values\n",
    "df.isnull().sum()"
   ]
  },
  {
   "cell_type": "code",
   "execution_count": 12,
   "id": "72fe7427",
   "metadata": {},
   "outputs": [
    {
     "data": {
      "text/plain": [
       "(3066766, 5)"
      ]
     },
     "execution_count": 12,
     "metadata": {},
     "output_type": "execute_result"
    }
   ],
   "source": [
    "df.shape"
   ]
  },
  {
   "cell_type": "code",
   "execution_count": 13,
   "id": "912482d5",
   "metadata": {},
   "outputs": [
    {
     "data": {
      "text/plain": [
       "2.3393698769322473"
      ]
     },
     "execution_count": 13,
     "metadata": {},
     "output_type": "execute_result"
    }
   ],
   "source": [
    "# Percentage of missing values\n",
    "\n",
    "(df.isnull().sum()[0] / df.shape[0]) * 100"
   ]
  },
  {
   "cell_type": "markdown",
   "id": "14b58a60",
   "metadata": {},
   "source": [
    "Just 2% of missing values, easily dropable"
   ]
  },
  {
   "cell_type": "code",
   "execution_count": 14,
   "id": "f5440a63",
   "metadata": {},
   "outputs": [],
   "source": [
    "df.dropna(inplace=True)"
   ]
  },
  {
   "cell_type": "code",
   "execution_count": 15,
   "id": "7e874a05",
   "metadata": {},
   "outputs": [
    {
     "data": {
      "text/plain": [
       "(2995023, 5)"
      ]
     },
     "execution_count": 15,
     "metadata": {},
     "output_type": "execute_result"
    }
   ],
   "source": [
    "df.shape"
   ]
  },
  {
   "cell_type": "code",
   "execution_count": 16,
   "id": "a5d91a07",
   "metadata": {},
   "outputs": [],
   "source": [
    "# Change data dtype of passenger count column\n",
    "\n",
    "df['passenger_count'] = df['passenger_count'].astype('int64')\n",
    "df['payment_type'] = df['payment_type'].astype('int64')"
   ]
  },
  {
   "cell_type": "code",
   "execution_count": 17,
   "id": "6dc6ac3b",
   "metadata": {},
   "outputs": [
    {
     "data": {
      "text/html": [
       "<div>\n",
       "<style scoped>\n",
       "    .dataframe tbody tr th:only-of-type {\n",
       "        vertical-align: middle;\n",
       "    }\n",
       "\n",
       "    .dataframe tbody tr th {\n",
       "        vertical-align: top;\n",
       "    }\n",
       "\n",
       "    .dataframe thead th {\n",
       "        text-align: right;\n",
       "    }\n",
       "</style>\n",
       "<table border=\"1\" class=\"dataframe\">\n",
       "  <thead>\n",
       "    <tr style=\"text-align: right;\">\n",
       "      <th></th>\n",
       "      <th>passenger_count</th>\n",
       "      <th>payment_type</th>\n",
       "      <th>total_amount</th>\n",
       "      <th>trip_distance</th>\n",
       "      <th>duration</th>\n",
       "    </tr>\n",
       "  </thead>\n",
       "  <tbody>\n",
       "    <tr>\n",
       "      <th>0</th>\n",
       "      <td>1</td>\n",
       "      <td>2</td>\n",
       "      <td>14.30</td>\n",
       "      <td>0.97</td>\n",
       "      <td>8.433333</td>\n",
       "    </tr>\n",
       "    <tr>\n",
       "      <th>1</th>\n",
       "      <td>1</td>\n",
       "      <td>1</td>\n",
       "      <td>16.90</td>\n",
       "      <td>1.10</td>\n",
       "      <td>6.316667</td>\n",
       "    </tr>\n",
       "    <tr>\n",
       "      <th>2</th>\n",
       "      <td>1</td>\n",
       "      <td>1</td>\n",
       "      <td>34.90</td>\n",
       "      <td>2.51</td>\n",
       "      <td>12.750000</td>\n",
       "    </tr>\n",
       "    <tr>\n",
       "      <th>3</th>\n",
       "      <td>0</td>\n",
       "      <td>1</td>\n",
       "      <td>20.85</td>\n",
       "      <td>1.90</td>\n",
       "      <td>9.616667</td>\n",
       "    </tr>\n",
       "    <tr>\n",
       "      <th>4</th>\n",
       "      <td>1</td>\n",
       "      <td>1</td>\n",
       "      <td>19.68</td>\n",
       "      <td>1.43</td>\n",
       "      <td>10.833333</td>\n",
       "    </tr>\n",
       "  </tbody>\n",
       "</table>\n",
       "</div>"
      ],
      "text/plain": [
       "   passenger_count  payment_type  total_amount  trip_distance   duration\n",
       "0                1             2         14.30           0.97   8.433333\n",
       "1                1             1         16.90           1.10   6.316667\n",
       "2                1             1         34.90           2.51  12.750000\n",
       "3                0             1         20.85           1.90   9.616667\n",
       "4                1             1         19.68           1.43  10.833333"
      ]
     },
     "execution_count": 17,
     "metadata": {},
     "output_type": "execute_result"
    }
   ],
   "source": [
    "df.head()"
   ]
  },
  {
   "cell_type": "code",
   "execution_count": 18,
   "id": "ed97ea88",
   "metadata": {},
   "outputs": [
    {
     "data": {
      "text/html": [
       "<div>\n",
       "<style scoped>\n",
       "    .dataframe tbody tr th:only-of-type {\n",
       "        vertical-align: middle;\n",
       "    }\n",
       "\n",
       "    .dataframe tbody tr th {\n",
       "        vertical-align: top;\n",
       "    }\n",
       "\n",
       "    .dataframe thead th {\n",
       "        text-align: right;\n",
       "    }\n",
       "</style>\n",
       "<table border=\"1\" class=\"dataframe\">\n",
       "  <thead>\n",
       "    <tr style=\"text-align: right;\">\n",
       "      <th></th>\n",
       "      <th>passenger_count</th>\n",
       "      <th>payment_type</th>\n",
       "      <th>total_amount</th>\n",
       "      <th>trip_distance</th>\n",
       "      <th>duration</th>\n",
       "    </tr>\n",
       "  </thead>\n",
       "  <tbody>\n",
       "    <tr>\n",
       "      <th>1679</th>\n",
       "      <td>1</td>\n",
       "      <td>1</td>\n",
       "      <td>13.80</td>\n",
       "      <td>0.71</td>\n",
       "      <td>4.600000</td>\n",
       "    </tr>\n",
       "    <tr>\n",
       "      <th>3383</th>\n",
       "      <td>2</td>\n",
       "      <td>1</td>\n",
       "      <td>12.12</td>\n",
       "      <td>0.75</td>\n",
       "      <td>2.116667</td>\n",
       "    </tr>\n",
       "    <tr>\n",
       "      <th>5375</th>\n",
       "      <td>1</td>\n",
       "      <td>2</td>\n",
       "      <td>14.30</td>\n",
       "      <td>1.30</td>\n",
       "      <td>8.700000</td>\n",
       "    </tr>\n",
       "    <tr>\n",
       "      <th>5975</th>\n",
       "      <td>1</td>\n",
       "      <td>1</td>\n",
       "      <td>13.80</td>\n",
       "      <td>0.90</td>\n",
       "      <td>3.450000</td>\n",
       "    </tr>\n",
       "    <tr>\n",
       "      <th>7864</th>\n",
       "      <td>1</td>\n",
       "      <td>1</td>\n",
       "      <td>14.65</td>\n",
       "      <td>1.00</td>\n",
       "      <td>6.600000</td>\n",
       "    </tr>\n",
       "    <tr>\n",
       "      <th>...</th>\n",
       "      <td>...</td>\n",
       "      <td>...</td>\n",
       "      <td>...</td>\n",
       "      <td>...</td>\n",
       "      <td>...</td>\n",
       "    </tr>\n",
       "    <tr>\n",
       "      <th>2994992</th>\n",
       "      <td>1</td>\n",
       "      <td>1</td>\n",
       "      <td>14.64</td>\n",
       "      <td>0.78</td>\n",
       "      <td>5.666667</td>\n",
       "    </tr>\n",
       "    <tr>\n",
       "      <th>2994995</th>\n",
       "      <td>1</td>\n",
       "      <td>1</td>\n",
       "      <td>13.80</td>\n",
       "      <td>0.64</td>\n",
       "      <td>4.516667</td>\n",
       "    </tr>\n",
       "    <tr>\n",
       "      <th>2995008</th>\n",
       "      <td>1</td>\n",
       "      <td>1</td>\n",
       "      <td>17.40</td>\n",
       "      <td>1.49</td>\n",
       "      <td>10.216667</td>\n",
       "    </tr>\n",
       "    <tr>\n",
       "      <th>2995009</th>\n",
       "      <td>1</td>\n",
       "      <td>1</td>\n",
       "      <td>19.65</td>\n",
       "      <td>1.90</td>\n",
       "      <td>11.216667</td>\n",
       "    </tr>\n",
       "    <tr>\n",
       "      <th>2995022</th>\n",
       "      <td>1</td>\n",
       "      <td>2</td>\n",
       "      <td>10.80</td>\n",
       "      <td>0.60</td>\n",
       "      <td>3.616667</td>\n",
       "    </tr>\n",
       "  </tbody>\n",
       "</table>\n",
       "<p>404494 rows × 5 columns</p>\n",
       "</div>"
      ],
      "text/plain": [
       "         passenger_count  payment_type  total_amount  trip_distance   duration\n",
       "1679                   1             1         13.80           0.71   4.600000\n",
       "3383                   2             1         12.12           0.75   2.116667\n",
       "5375                   1             2         14.30           1.30   8.700000\n",
       "5975                   1             1         13.80           0.90   3.450000\n",
       "7864                   1             1         14.65           1.00   6.600000\n",
       "...                  ...           ...           ...            ...        ...\n",
       "2994992                1             1         14.64           0.78   5.666667\n",
       "2994995                1             1         13.80           0.64   4.516667\n",
       "2995008                1             1         17.40           1.49  10.216667\n",
       "2995009                1             1         19.65           1.90  11.216667\n",
       "2995022                1             2         10.80           0.60   3.616667\n",
       "\n",
       "[404494 rows x 5 columns]"
      ]
     },
     "execution_count": 18,
     "metadata": {},
     "output_type": "execute_result"
    }
   ],
   "source": [
    "# Check for duplicate values\n",
    "\n",
    "df[df.duplicated()]"
   ]
  },
  {
   "cell_type": "code",
   "execution_count": 19,
   "id": "8e84b6b4",
   "metadata": {},
   "outputs": [
    {
     "name": "stdout",
     "output_type": "stream",
     "text": [
      "13.50553902257178\n"
     ]
    }
   ],
   "source": [
    "duplicate_perc = df[df.duplicated()].shape[0] / df.shape[0] * 100\n",
    "print(duplicate_perc)"
   ]
  },
  {
   "cell_type": "markdown",
   "id": "fb60283a",
   "metadata": {},
   "source": [
    "13% data is duplicated/reduntant "
   ]
  },
  {
   "cell_type": "code",
   "execution_count": 20,
   "id": "554707fe",
   "metadata": {},
   "outputs": [],
   "source": [
    "df.drop_duplicates(inplace = True)"
   ]
  },
  {
   "cell_type": "code",
   "execution_count": 21,
   "id": "dffb5826",
   "metadata": {},
   "outputs": [
    {
     "data": {
      "text/plain": [
       "(2590529, 5)"
      ]
     },
     "execution_count": 21,
     "metadata": {},
     "output_type": "execute_result"
    }
   ],
   "source": [
    "df.shape"
   ]
  },
  {
   "cell_type": "code",
   "execution_count": 22,
   "id": "f1f5add8",
   "metadata": {},
   "outputs": [],
   "source": [
    "color_palette = ['#f6b01f', '#f3a709', '#db9708', '#c48707', '#ac7706', '#956605', '#7d5604', '#664603']"
   ]
  },
  {
   "cell_type": "code",
   "execution_count": 23,
   "id": "935bdebb",
   "metadata": {},
   "outputs": [
    {
     "data": {
      "text/plain": [
       "1    7.269982e-01\n",
       "2    1.657619e-01\n",
       "3    4.051335e-02\n",
       "4    2.060892e-02\n",
       "0    1.891853e-02\n",
       "5    1.637619e-02\n",
       "6    1.081517e-02\n",
       "8    5.018280e-06\n",
       "7    2.316129e-06\n",
       "9    3.860215e-07\n",
       "Name: passenger_count, dtype: float64"
      ]
     },
     "execution_count": 23,
     "metadata": {},
     "output_type": "execute_result"
    },
    {
     "data": {
      "image/png": "[encoded data removed]",
      "text/plain": [
       "<Figure size 640x480 with 1 Axes>"
      ]
     },
     "metadata": {},
     "output_type": "display_data"
    }
   ],
   "source": [
    "# Distribution of passenger_counts\n",
    "x = df['passenger_count'].value_counts().index\n",
    "y = df['passenger_count'].value_counts(normalize=True)\n",
    "sns.barplot(data = df, x = x, y = y, palette = color_palette)\n",
    "df['passenger_count'].value_counts(normalize=True)"
   ]
  },
  {
   "cell_type": "code",
   "execution_count": 24,
   "id": "c5dc701f",
   "metadata": {},
   "outputs": [
    {
     "data": {
      "text/plain": [
       "1    0.802841\n",
       "2    0.178870\n",
       "4    0.012273\n",
       "3    0.006017\n",
       "Name: payment_type, dtype: float64"
      ]
     },
     "execution_count": 24,
     "metadata": {},
     "output_type": "execute_result"
    },
    {
     "data": {
      "image/png": "[encoded data removed]",
      "text/plain": [
       "<Figure size 640x480 with 1 Axes>"
      ]
     },
     "metadata": {},
     "output_type": "display_data"
    }
   ],
   "source": [
    "# Distribution of payment_type\n",
    "x = df['payment_type'].value_counts().index\n",
    "y = df['payment_type'].value_counts(normalize=True)\n",
    "sns.barplot(data = df, x = x, y = y, palette = color_palette)\n",
    "df['payment_type'].value_counts(normalize=True)"
   ]
  },
  {
   "cell_type": "markdown",
   "id": "e41855bd",
   "metadata": {},
   "source": [
    "We only need payment type 1 and 2, so we will filter the other three payment types"
   ]
  },
  {
   "cell_type": "code",
   "execution_count": 25,
   "id": "e774b1d6",
   "metadata": {},
   "outputs": [],
   "source": [
    "df = df[df['payment_type'] < 3]\n",
    "df = df[(df['passenger_count'] > 0) & (df['passenger_count'] < 6)]"
   ]
  },
  {
   "cell_type": "code",
   "execution_count": 26,
   "id": "977c335d",
   "metadata": {},
   "outputs": [
    {
     "data": {
      "text/plain": [
       "(2467673, 5)"
      ]
     },
     "execution_count": 26,
     "metadata": {},
     "output_type": "execute_result"
    }
   ],
   "source": [
    "df.shape"
   ]
  },
  {
   "cell_type": "code",
   "execution_count": 27,
   "id": "87708e5c",
   "metadata": {},
   "outputs": [],
   "source": [
    "# Change variable name\n",
    "df['payment_type'].replace([1, 2], ['Card', 'Cash'], inplace=True)"
   ]
  },
  {
   "cell_type": "code",
   "execution_count": 28,
   "id": "deb0b8de",
   "metadata": {},
   "outputs": [
    {
     "data": {
      "text/html": [
       "<div>\n",
       "<style scoped>\n",
       "    .dataframe tbody tr th:only-of-type {\n",
       "        vertical-align: middle;\n",
       "    }\n",
       "\n",
       "    .dataframe tbody tr th {\n",
       "        vertical-align: top;\n",
       "    }\n",
       "\n",
       "    .dataframe thead th {\n",
       "        text-align: right;\n",
       "    }\n",
       "</style>\n",
       "<table border=\"1\" class=\"dataframe\">\n",
       "  <thead>\n",
       "    <tr style=\"text-align: right;\">\n",
       "      <th></th>\n",
       "      <th>passenger_count</th>\n",
       "      <th>payment_type</th>\n",
       "      <th>total_amount</th>\n",
       "      <th>trip_distance</th>\n",
       "      <th>duration</th>\n",
       "    </tr>\n",
       "  </thead>\n",
       "  <tbody>\n",
       "    <tr>\n",
       "      <th>0</th>\n",
       "      <td>1</td>\n",
       "      <td>Cash</td>\n",
       "      <td>14.30</td>\n",
       "      <td>0.97</td>\n",
       "      <td>8.433333</td>\n",
       "    </tr>\n",
       "    <tr>\n",
       "      <th>1</th>\n",
       "      <td>1</td>\n",
       "      <td>Card</td>\n",
       "      <td>16.90</td>\n",
       "      <td>1.10</td>\n",
       "      <td>6.316667</td>\n",
       "    </tr>\n",
       "    <tr>\n",
       "      <th>2</th>\n",
       "      <td>1</td>\n",
       "      <td>Card</td>\n",
       "      <td>34.90</td>\n",
       "      <td>2.51</td>\n",
       "      <td>12.750000</td>\n",
       "    </tr>\n",
       "    <tr>\n",
       "      <th>4</th>\n",
       "      <td>1</td>\n",
       "      <td>Card</td>\n",
       "      <td>19.68</td>\n",
       "      <td>1.43</td>\n",
       "      <td>10.833333</td>\n",
       "    </tr>\n",
       "    <tr>\n",
       "      <th>5</th>\n",
       "      <td>1</td>\n",
       "      <td>Card</td>\n",
       "      <td>27.80</td>\n",
       "      <td>1.84</td>\n",
       "      <td>12.300000</td>\n",
       "    </tr>\n",
       "  </tbody>\n",
       "</table>\n",
       "</div>"
      ],
      "text/plain": [
       "   passenger_count payment_type  total_amount  trip_distance   duration\n",
       "0                1         Cash         14.30           0.97   8.433333\n",
       "1                1         Card         16.90           1.10   6.316667\n",
       "2                1         Card         34.90           2.51  12.750000\n",
       "4                1         Card         19.68           1.43  10.833333\n",
       "5                1         Card         27.80           1.84  12.300000"
      ]
     },
     "execution_count": 28,
     "metadata": {},
     "output_type": "execute_result"
    }
   ],
   "source": [
    "df.head()"
   ]
  },
  {
   "cell_type": "code",
   "execution_count": 29,
   "id": "dae6e430",
   "metadata": {},
   "outputs": [
    {
     "data": {
      "text/html": [
       "<div>\n",
       "<style scoped>\n",
       "    .dataframe tbody tr th:only-of-type {\n",
       "        vertical-align: middle;\n",
       "    }\n",
       "\n",
       "    .dataframe tbody tr th {\n",
       "        vertical-align: top;\n",
       "    }\n",
       "\n",
       "    .dataframe thead th {\n",
       "        text-align: right;\n",
       "    }\n",
       "</style>\n",
       "<table border=\"1\" class=\"dataframe\">\n",
       "  <thead>\n",
       "    <tr style=\"text-align: right;\">\n",
       "      <th></th>\n",
       "      <th>passenger_count</th>\n",
       "      <th>total_amount</th>\n",
       "      <th>trip_distance</th>\n",
       "      <th>duration</th>\n",
       "    </tr>\n",
       "  </thead>\n",
       "  <tbody>\n",
       "    <tr>\n",
       "      <th>count</th>\n",
       "      <td>2.467673e+06</td>\n",
       "      <td>2.467673e+06</td>\n",
       "      <td>2.467673e+06</td>\n",
       "      <td>2.467673e+06</td>\n",
       "    </tr>\n",
       "    <tr>\n",
       "      <th>mean</th>\n",
       "      <td>1.387044e+00</td>\n",
       "      <td>2.919599e+01</td>\n",
       "      <td>3.827744e+00</td>\n",
       "      <td>1.701749e+01</td>\n",
       "    </tr>\n",
       "    <tr>\n",
       "      <th>std</th>\n",
       "      <td>8.083441e-01</td>\n",
       "      <td>2.295280e+01</td>\n",
       "      <td>4.635038e+01</td>\n",
       "      <td>4.637557e+01</td>\n",
       "    </tr>\n",
       "    <tr>\n",
       "      <th>min</th>\n",
       "      <td>1.000000e+00</td>\n",
       "      <td>-5.205500e+02</td>\n",
       "      <td>0.000000e+00</td>\n",
       "      <td>-2.920000e+01</td>\n",
       "    </tr>\n",
       "    <tr>\n",
       "      <th>25%</th>\n",
       "      <td>1.000000e+00</td>\n",
       "      <td>1.630000e+01</td>\n",
       "      <td>1.190000e+00</td>\n",
       "      <td>7.866667e+00</td>\n",
       "    </tr>\n",
       "    <tr>\n",
       "      <th>50%</th>\n",
       "      <td>1.000000e+00</td>\n",
       "      <td>2.140000e+01</td>\n",
       "      <td>2.000000e+00</td>\n",
       "      <td>1.265000e+01</td>\n",
       "    </tr>\n",
       "    <tr>\n",
       "      <th>75%</th>\n",
       "      <td>2.000000e+00</td>\n",
       "      <td>3.108000e+01</td>\n",
       "      <td>3.800000e+00</td>\n",
       "      <td>1.971667e+01</td>\n",
       "    </tr>\n",
       "    <tr>\n",
       "      <th>max</th>\n",
       "      <td>5.000000e+00</td>\n",
       "      <td>1.169400e+03</td>\n",
       "      <td>6.235952e+04</td>\n",
       "      <td>1.002918e+04</td>\n",
       "    </tr>\n",
       "  </tbody>\n",
       "</table>\n",
       "</div>"
      ],
      "text/plain": [
       "       passenger_count  total_amount  trip_distance      duration\n",
       "count     2.467673e+06  2.467673e+06   2.467673e+06  2.467673e+06\n",
       "mean      1.387044e+00  2.919599e+01   3.827744e+00  1.701749e+01\n",
       "std       8.083441e-01  2.295280e+01   4.635038e+01  4.637557e+01\n",
       "min       1.000000e+00 -5.205500e+02   0.000000e+00 -2.920000e+01\n",
       "25%       1.000000e+00  1.630000e+01   1.190000e+00  7.866667e+00\n",
       "50%       1.000000e+00  2.140000e+01   2.000000e+00  1.265000e+01\n",
       "75%       2.000000e+00  3.108000e+01   3.800000e+00  1.971667e+01\n",
       "max       5.000000e+00  1.169400e+03   6.235952e+04  1.002918e+04"
      ]
     },
     "execution_count": 29,
     "metadata": {},
     "output_type": "execute_result"
    }
   ],
   "source": [
    "# Analyse numerical data\n",
    "\n",
    "df.describe()"
   ]
  },
  {
   "cell_type": "markdown",
   "id": "040ce45c",
   "metadata": {},
   "source": [
    "An interesting thing to notice, if you look at the minimum values for total_amount, trip_distance, and duration, they are in negative or 0. Clearly these values cannot be in negatives. There are some outliers in both the directions of the data"
   ]
  },
  {
   "cell_type": "code",
   "execution_count": 30,
   "id": "dbfdc7ac",
   "metadata": {},
   "outputs": [],
   "source": [
    "# Remove rows with negative values\n",
    "df = df[df['total_amount'] > 0]\n",
    "df = df[df['trip_distance'] > 0]\n",
    "df = df[df['duration'] > 0]"
   ]
  },
  {
   "cell_type": "code",
   "execution_count": 31,
   "id": "98f0b986",
   "metadata": {},
   "outputs": [
    {
     "data": {
      "text/html": [
       "<div>\n",
       "<style scoped>\n",
       "    .dataframe tbody tr th:only-of-type {\n",
       "        vertical-align: middle;\n",
       "    }\n",
       "\n",
       "    .dataframe tbody tr th {\n",
       "        vertical-align: top;\n",
       "    }\n",
       "\n",
       "    .dataframe thead th {\n",
       "        text-align: right;\n",
       "    }\n",
       "</style>\n",
       "<table border=\"1\" class=\"dataframe\">\n",
       "  <thead>\n",
       "    <tr style=\"text-align: right;\">\n",
       "      <th></th>\n",
       "      <th>passenger_count</th>\n",
       "      <th>total_amount</th>\n",
       "      <th>trip_distance</th>\n",
       "      <th>duration</th>\n",
       "    </tr>\n",
       "  </thead>\n",
       "  <tbody>\n",
       "    <tr>\n",
       "      <th>count</th>\n",
       "      <td>2.439484e+06</td>\n",
       "      <td>2.439484e+06</td>\n",
       "      <td>2.439484e+06</td>\n",
       "      <td>2.439484e+06</td>\n",
       "    </tr>\n",
       "    <tr>\n",
       "      <th>mean</th>\n",
       "      <td>1.387602e+00</td>\n",
       "      <td>2.919796e+01</td>\n",
       "      <td>3.863526e+00</td>\n",
       "      <td>1.703907e+01</td>\n",
       "    </tr>\n",
       "    <tr>\n",
       "      <th>std</th>\n",
       "      <td>8.089866e-01</td>\n",
       "      <td>2.247628e+01</td>\n",
       "      <td>4.661516e+01</td>\n",
       "      <td>4.585039e+01</td>\n",
       "    </tr>\n",
       "    <tr>\n",
       "      <th>min</th>\n",
       "      <td>1.000000e+00</td>\n",
       "      <td>1.000000e+00</td>\n",
       "      <td>1.000000e-02</td>\n",
       "      <td>1.666667e-02</td>\n",
       "    </tr>\n",
       "    <tr>\n",
       "      <th>25%</th>\n",
       "      <td>1.000000e+00</td>\n",
       "      <td>1.632000e+01</td>\n",
       "      <td>1.200000e+00</td>\n",
       "      <td>7.933333e+00</td>\n",
       "    </tr>\n",
       "    <tr>\n",
       "      <th>50%</th>\n",
       "      <td>1.000000e+00</td>\n",
       "      <td>2.140000e+01</td>\n",
       "      <td>2.010000e+00</td>\n",
       "      <td>1.268333e+01</td>\n",
       "    </tr>\n",
       "    <tr>\n",
       "      <th>75%</th>\n",
       "      <td>2.000000e+00</td>\n",
       "      <td>3.105000e+01</td>\n",
       "      <td>3.840000e+00</td>\n",
       "      <td>1.971667e+01</td>\n",
       "    </tr>\n",
       "    <tr>\n",
       "      <th>max</th>\n",
       "      <td>5.000000e+00</td>\n",
       "      <td>1.169400e+03</td>\n",
       "      <td>6.235952e+04</td>\n",
       "      <td>6.179400e+03</td>\n",
       "    </tr>\n",
       "  </tbody>\n",
       "</table>\n",
       "</div>"
      ],
      "text/plain": [
       "       passenger_count  total_amount  trip_distance      duration\n",
       "count     2.439484e+06  2.439484e+06   2.439484e+06  2.439484e+06\n",
       "mean      1.387602e+00  2.919796e+01   3.863526e+00  1.703907e+01\n",
       "std       8.089866e-01  2.247628e+01   4.661516e+01  4.585039e+01\n",
       "min       1.000000e+00  1.000000e+00   1.000000e-02  1.666667e-02\n",
       "25%       1.000000e+00  1.632000e+01   1.200000e+00  7.933333e+00\n",
       "50%       1.000000e+00  2.140000e+01   2.010000e+00  1.268333e+01\n",
       "75%       2.000000e+00  3.105000e+01   3.840000e+00  1.971667e+01\n",
       "max       5.000000e+00  1.169400e+03   6.235952e+04  6.179400e+03"
      ]
     },
     "execution_count": 31,
     "metadata": {},
     "output_type": "execute_result"
    }
   ],
   "source": [
    "df.describe()"
   ]
  },
  {
   "cell_type": "markdown",
   "id": "fb77fcb3",
   "metadata": {},
   "source": [
    "# Remove Outliers"
   ]
  },
  {
   "cell_type": "markdown",
   "id": "f255fec3",
   "metadata": {},
   "source": [
    "First we will visualize the distribution for the data with outliers"
   ]
  },
  {
   "cell_type": "code",
   "execution_count": 32,
   "id": "f539d3b1",
   "metadata": {},
   "outputs": [
    {
     "data": {
      "text/plain": [
       "<function matplotlib.pyplot.show(close=None, block=None)>"
      ]
     },
     "execution_count": 32,
     "metadata": {},
     "output_type": "execute_result"
    },
    {
     "data": {
      "image/png": "[encoded data removed]",
      "text/plain": [
       "<Figure size 1200x400 with 3 Axes>"
      ]
     },
     "metadata": {},
     "output_type": "display_data"
    }
   ],
   "source": [
    "fig, ax = plt.subplots(1, 3, figsize=(12, 4))\n",
    "\n",
    "sns.histplot(data = df, x = 'total_amount', bins = 20, ax = ax[0], color = color_palette[0])\n",
    "sns.histplot(data = df, x = 'trip_distance', bins = 20, ax = ax[1], color = color_palette[0])\n",
    "sns.histplot(data = df, x = 'duration', bins = 20, ax = ax[2], color = color_palette[0])\n",
    "\n",
    "ax[0].set_title('Total Amount')\n",
    "ax[1].set_title('Trip Distance')\n",
    "ax[2].set_title('Duration')\n",
    "\n",
    "plt.show"
   ]
  },
  {
   "cell_type": "markdown",
   "id": "3ce6e973",
   "metadata": {},
   "source": [
    "As we can clearly see the data is skewed and extreme values present in the data. These are the outliers and should be removed for better analysis.\n",
    "\n",
    "As the data is not normalized, we cannot use z-score. We will use IQR method to remove the outliers"
   ]
  },
  {
   "cell_type": "code",
   "execution_count": 33,
   "id": "85861a47",
   "metadata": {},
   "outputs": [
    {
     "data": {
      "text/plain": [
       "(2439484, 5)"
      ]
     },
     "execution_count": 33,
     "metadata": {},
     "output_type": "execute_result"
    }
   ],
   "source": [
    "df.shape"
   ]
  },
  {
   "cell_type": "code",
   "execution_count": 34,
   "id": "8891048e",
   "metadata": {},
   "outputs": [
    {
     "data": {
      "text/plain": [
       "(1969905, 5)"
      ]
     },
     "execution_count": 34,
     "metadata": {},
     "output_type": "execute_result"
    }
   ],
   "source": [
    "# fundction to calculate IQR and remove outliers\n",
    "columns = ['total_amount', 'trip_distance', 'duration']\n",
    "for col in columns:\n",
    "    q1 = df[col].quantile(0.25)\n",
    "    q3 = df[col].quantile(0.75)\n",
    "    IQR = q3 - q1\n",
    "    \n",
    "    lower_bound = q1 - 1.5 * IQR - 0.1 # added a bias of 0.1\n",
    "    upper_bound = q3 + 1.5 * IQR + 0.1 # added a bias of 0.1\n",
    "    \n",
    "    df = df[(df[col] >= lower_bound) & (df[col] <= upper_bound)]\n",
    "\n",
    "df.shape"
   ]
  },
  {
   "cell_type": "markdown",
   "id": "c7046fd8",
   "metadata": {},
   "source": [
    "There were a substantial amount of outliers that have been removed. Let's see the distribution again after the outliers removal"
   ]
  },
  {
   "cell_type": "code",
   "execution_count": 35,
   "id": "b1fa0cb5",
   "metadata": {},
   "outputs": [
    {
     "data": {
      "text/plain": [
       "<function matplotlib.pyplot.show(close=None, block=None)>"
      ]
     },
     "execution_count": 35,
     "metadata": {},
     "output_type": "execute_result"
    },
    {
     "data": {
      "image/png": "[encoded data removed]",
      "text/plain": [
       "<Figure size 1200x400 with 3 Axes>"
      ]
     },
     "metadata": {},
     "output_type": "display_data"
    }
   ],
   "source": [
    "fig, ax = plt.subplots(1, 3, figsize=(12, 4))\n",
    "\n",
    "sns.histplot(data = df, x = 'total_amount', bins = 20, ax = ax[0], color = color_palette[0])\n",
    "sns.histplot(data = df, x = 'trip_distance', bins = 20, ax = ax[1], color = color_palette[0])\n",
    "sns.histplot(data = df, x = 'duration', bins = 20, ax = ax[2], color = color_palette[0])\n",
    "\n",
    "ax[0].set_title('Trip Distance')\n",
    "ax[1].set_title('Total Amount')\n",
    "ax[2].set_title('Duration')\n",
    "\n",
    "plt.show"
   ]
  },
  {
   "cell_type": "markdown",
   "id": "5b7b97ac",
   "metadata": {},
   "source": [
    "The distribution looks better than before"
   ]
  },
  {
   "cell_type": "markdown",
   "id": "4737132d",
   "metadata": {},
   "source": [
    "We're interested in exploring the relationship between payment type and passenger behaviour concerning trip distance and fare amount. Are there variations in the distribution of payment types concerning different fare amounts or trip distances.\n",
    "\n",
    "To investigate this, we'll plot histograms to vizualize the distribution of passenger counts playing with either card or cash. This will also provide stakeholders with insights into fare amount ranges associated with different payment methods."
   ]
  },
  {
   "cell_type": "code",
   "execution_count": 36,
   "id": "aae36761",
   "metadata": {},
   "outputs": [
    {
     "data": {
      "image/png": "[encoded data removed]",
      "text/plain": [
       "<Figure size 1200x500 with 2 Axes>"
      ]
     },
     "metadata": {},
     "output_type": "display_data"
    }
   ],
   "source": [
    "# Distribution of fare amount for different payment types\n",
    "\n",
    "plt.figure(figsize = (12, 5))\n",
    "plt.subplot(1,2,1)\n",
    "\n",
    "plt.title('Distribution of Fare Amount')\n",
    "plt.hist(\n",
    "        df[df['payment_type'] == 'Card']['total_amount'], \n",
    "        histtype='barstacked', \n",
    "        bins=20, \n",
    "        edgecolor='k', \n",
    "        color=color_palette[2], \n",
    "        label='Card'\n",
    "    )\n",
    "plt.hist(df[df['payment_type'] == 'Cash']['total_amount'], \n",
    "         histtype='barstacked', \n",
    "         bins=20, edgecolor='k', \n",
    "         color=color_palette[0], \n",
    "         label='Cash'\n",
    "    )\n",
    "plt.legend()\n",
    "plt.subplot(1,2,2)\n",
    "plt.title('Distribution of Trip Distance')\n",
    "plt.hist(\n",
    "        df[df['payment_type'] == 'Card']['trip_distance'], \n",
    "        histtype='barstacked', \n",
    "        bins=20, edgecolor='k', \n",
    "        color=color_palette[2], \n",
    "        label='Card'\n",
    ")\n",
    "plt.hist(\n",
    "        df[df['payment_type'] == 'Cash']['trip_distance'], \n",
    "        histtype='barstacked', \n",
    "        bins=20, \n",
    "        edgecolor='k', \n",
    "        color=color_palette[0], \n",
    "        label='Cash'\n",
    ")\n",
    "\n",
    "plt.legend()\n",
    "plt.show()"
   ]
  },
  {
   "cell_type": "code",
   "execution_count": 37,
   "id": "3ed481fc",
   "metadata": {},
   "outputs": [
    {
     "data": {
      "text/html": [
       "<div>\n",
       "<style scoped>\n",
       "    .dataframe tbody tr th:only-of-type {\n",
       "        vertical-align: middle;\n",
       "    }\n",
       "\n",
       "    .dataframe tbody tr th {\n",
       "        vertical-align: top;\n",
       "    }\n",
       "\n",
       "    .dataframe thead tr th {\n",
       "        text-align: left;\n",
       "    }\n",
       "\n",
       "    .dataframe thead tr:last-of-type th {\n",
       "        text-align: right;\n",
       "    }\n",
       "</style>\n",
       "<table border=\"1\" class=\"dataframe\">\n",
       "  <thead>\n",
       "    <tr>\n",
       "      <th></th>\n",
       "      <th colspan=\"2\" halign=\"left\">total_amount</th>\n",
       "      <th colspan=\"2\" halign=\"left\">trip_distance</th>\n",
       "    </tr>\n",
       "    <tr>\n",
       "      <th></th>\n",
       "      <th>mean</th>\n",
       "      <th>std</th>\n",
       "      <th>mean</th>\n",
       "      <th>std</th>\n",
       "    </tr>\n",
       "    <tr>\n",
       "      <th>payment_type</th>\n",
       "      <th></th>\n",
       "      <th></th>\n",
       "      <th></th>\n",
       "      <th></th>\n",
       "    </tr>\n",
       "  </thead>\n",
       "  <tbody>\n",
       "    <tr>\n",
       "      <th>Card</th>\n",
       "      <td>21.039000</td>\n",
       "      <td>6.584865</td>\n",
       "      <td>1.962793</td>\n",
       "      <td>1.147784</td>\n",
       "    </tr>\n",
       "    <tr>\n",
       "      <th>Cash</th>\n",
       "      <td>17.145876</td>\n",
       "      <td>5.591062</td>\n",
       "      <td>1.850492</td>\n",
       "      <td>1.182879</td>\n",
       "    </tr>\n",
       "  </tbody>\n",
       "</table>\n",
       "</div>"
      ],
      "text/plain": [
       "             total_amount           trip_distance          \n",
       "                     mean       std          mean       std\n",
       "payment_type                                               \n",
       "Card            21.039000  6.584865      1.962793  1.147784\n",
       "Cash            17.145876  5.591062      1.850492  1.182879"
      ]
     },
     "execution_count": 37,
     "metadata": {},
     "output_type": "execute_result"
    }
   ],
   "source": [
    "# Mean and Standard Deviation of payment types \n",
    "df.groupby('payment_type').agg({'total_amount':['mean', 'std'], 'trip_distance':['mean', 'std']})"
   ]
  },
  {
   "cell_type": "markdown",
   "id": "83a28a04",
   "metadata": {},
   "source": [
    "# Journey Insights\n",
    "\n",
    "- Customers paying with card tend to have a slighly higher average trip distance and fare amount than compared to those paying with cash.\n",
    "- Indicates that customers prefer to pay more with cards when they have high fare amount and long distance trips."
   ]
  },
  {
   "cell_type": "code",
   "execution_count": 38,
   "id": "f3eca4ba",
   "metadata": {},
   "outputs": [
    {
     "data": {
      "image/png": "[encoded data removed]",
      "text/plain": [
       "<Figure size 640x480 with 1 Axes>"
      ]
     },
     "metadata": {},
     "output_type": "display_data"
    }
   ],
   "source": [
    "# Distribution of Payment preference \n",
    "\n",
    "plt.title('Preference of Payment Type')\n",
    "plt.pie(df['payment_type'].value_counts(normalize=True), labels = df['payment_type'].value_counts().index,\n",
    "       startangle=90, shadow = True, autopct = '%1.1f%%', colors=[color_palette[0], color_palette[2]])\n",
    "plt.show()"
   ]
  },
  {
   "cell_type": "markdown",
   "id": "98a9ce4f",
   "metadata": {},
   "source": [
    "#  Preference of Payment Types\n",
    "\n",
    "- The proportion of customers paying with cards is significantly higher than those paying with cash, with card payments accounting for 82.2% of all transactions compared to cash payments at 17.8%.\n",
    "- This indicates a strong preference among customers for using card payments over cash, potentially due to convenience, security, or incentives offered for card transactions."
   ]
  },
  {
   "cell_type": "code",
   "execution_count": 39,
   "id": "da371171",
   "metadata": {},
   "outputs": [],
   "source": [
    "passenger_count = df.groupby(['payment_type', 'passenger_count'])[['passenger_count']].count()\n",
    "passenger_count.rename(columns = {'passenger_count': 'count'}, inplace=True)\n",
    "passenger_count.reset_index(inplace=True)"
   ]
  },
  {
   "cell_type": "code",
   "execution_count": 40,
   "id": "97f0cea8",
   "metadata": {},
   "outputs": [
    {
     "data": {
      "text/html": [
       "<div>\n",
       "<style scoped>\n",
       "    .dataframe tbody tr th:only-of-type {\n",
       "        vertical-align: middle;\n",
       "    }\n",
       "\n",
       "    .dataframe tbody tr th {\n",
       "        vertical-align: top;\n",
       "    }\n",
       "\n",
       "    .dataframe thead th {\n",
       "        text-align: right;\n",
       "    }\n",
       "</style>\n",
       "<table border=\"1\" class=\"dataframe\">\n",
       "  <thead>\n",
       "    <tr style=\"text-align: right;\">\n",
       "      <th></th>\n",
       "      <th>payment_type</th>\n",
       "      <th>passenger_count</th>\n",
       "      <th>count</th>\n",
       "    </tr>\n",
       "  </thead>\n",
       "  <tbody>\n",
       "    <tr>\n",
       "      <th>0</th>\n",
       "      <td>Card</td>\n",
       "      <td>1</td>\n",
       "      <td>1222928</td>\n",
       "    </tr>\n",
       "    <tr>\n",
       "      <th>1</th>\n",
       "      <td>Card</td>\n",
       "      <td>2</td>\n",
       "      <td>269857</td>\n",
       "    </tr>\n",
       "    <tr>\n",
       "      <th>2</th>\n",
       "      <td>Card</td>\n",
       "      <td>3</td>\n",
       "      <td>66830</td>\n",
       "    </tr>\n",
       "    <tr>\n",
       "      <th>3</th>\n",
       "      <td>Card</td>\n",
       "      <td>4</td>\n",
       "      <td>30763</td>\n",
       "    </tr>\n",
       "    <tr>\n",
       "      <th>4</th>\n",
       "      <td>Card</td>\n",
       "      <td>5</td>\n",
       "      <td>29279</td>\n",
       "    </tr>\n",
       "    <tr>\n",
       "      <th>5</th>\n",
       "      <td>Cash</td>\n",
       "      <td>1</td>\n",
       "      <td>253141</td>\n",
       "    </tr>\n",
       "    <tr>\n",
       "      <th>6</th>\n",
       "      <td>Cash</td>\n",
       "      <td>2</td>\n",
       "      <td>63596</td>\n",
       "    </tr>\n",
       "    <tr>\n",
       "      <th>7</th>\n",
       "      <td>Cash</td>\n",
       "      <td>3</td>\n",
       "      <td>16813</td>\n",
       "    </tr>\n",
       "    <tr>\n",
       "      <th>8</th>\n",
       "      <td>Cash</td>\n",
       "      <td>4</td>\n",
       "      <td>10467</td>\n",
       "    </tr>\n",
       "    <tr>\n",
       "      <th>9</th>\n",
       "      <td>Cash</td>\n",
       "      <td>5</td>\n",
       "      <td>6231</td>\n",
       "    </tr>\n",
       "  </tbody>\n",
       "</table>\n",
       "</div>"
      ],
      "text/plain": [
       "  payment_type  passenger_count    count\n",
       "0         Card                1  1222928\n",
       "1         Card                2   269857\n",
       "2         Card                3    66830\n",
       "3         Card                4    30763\n",
       "4         Card                5    29279\n",
       "5         Cash                1   253141\n",
       "6         Cash                2    63596\n",
       "7         Cash                3    16813\n",
       "8         Cash                4    10467\n",
       "9         Cash                5     6231"
      ]
     },
     "execution_count": 40,
     "metadata": {},
     "output_type": "execute_result"
    }
   ],
   "source": [
    "passenger_count"
   ]
  },
  {
   "cell_type": "code",
   "execution_count": 41,
   "id": "576b5019",
   "metadata": {},
   "outputs": [
    {
     "data": {
      "text/html": [
       "<div>\n",
       "<style scoped>\n",
       "    .dataframe tbody tr th:only-of-type {\n",
       "        vertical-align: middle;\n",
       "    }\n",
       "\n",
       "    .dataframe tbody tr th {\n",
       "        vertical-align: top;\n",
       "    }\n",
       "\n",
       "    .dataframe thead th {\n",
       "        text-align: right;\n",
       "    }\n",
       "</style>\n",
       "<table border=\"1\" class=\"dataframe\">\n",
       "  <thead>\n",
       "    <tr style=\"text-align: right;\">\n",
       "      <th></th>\n",
       "      <th>payment_type</th>\n",
       "      <th>passenger_count</th>\n",
       "      <th>count</th>\n",
       "      <th>perc</th>\n",
       "    </tr>\n",
       "  </thead>\n",
       "  <tbody>\n",
       "    <tr>\n",
       "      <th>0</th>\n",
       "      <td>Card</td>\n",
       "      <td>1</td>\n",
       "      <td>1222928</td>\n",
       "      <td>62.080557</td>\n",
       "    </tr>\n",
       "    <tr>\n",
       "      <th>1</th>\n",
       "      <td>Card</td>\n",
       "      <td>2</td>\n",
       "      <td>269857</td>\n",
       "      <td>13.698985</td>\n",
       "    </tr>\n",
       "    <tr>\n",
       "      <th>2</th>\n",
       "      <td>Card</td>\n",
       "      <td>3</td>\n",
       "      <td>66830</td>\n",
       "      <td>3.392549</td>\n",
       "    </tr>\n",
       "    <tr>\n",
       "      <th>3</th>\n",
       "      <td>Card</td>\n",
       "      <td>4</td>\n",
       "      <td>30763</td>\n",
       "      <td>1.561649</td>\n",
       "    </tr>\n",
       "    <tr>\n",
       "      <th>4</th>\n",
       "      <td>Card</td>\n",
       "      <td>5</td>\n",
       "      <td>29279</td>\n",
       "      <td>1.486315</td>\n",
       "    </tr>\n",
       "    <tr>\n",
       "      <th>5</th>\n",
       "      <td>Cash</td>\n",
       "      <td>1</td>\n",
       "      <td>253141</td>\n",
       "      <td>12.850417</td>\n",
       "    </tr>\n",
       "    <tr>\n",
       "      <th>6</th>\n",
       "      <td>Cash</td>\n",
       "      <td>2</td>\n",
       "      <td>63596</td>\n",
       "      <td>3.228379</td>\n",
       "    </tr>\n",
       "    <tr>\n",
       "      <th>7</th>\n",
       "      <td>Cash</td>\n",
       "      <td>3</td>\n",
       "      <td>16813</td>\n",
       "      <td>0.853493</td>\n",
       "    </tr>\n",
       "    <tr>\n",
       "      <th>8</th>\n",
       "      <td>Cash</td>\n",
       "      <td>4</td>\n",
       "      <td>10467</td>\n",
       "      <td>0.531345</td>\n",
       "    </tr>\n",
       "    <tr>\n",
       "      <th>9</th>\n",
       "      <td>Cash</td>\n",
       "      <td>5</td>\n",
       "      <td>6231</td>\n",
       "      <td>0.316310</td>\n",
       "    </tr>\n",
       "  </tbody>\n",
       "</table>\n",
       "</div>"
      ],
      "text/plain": [
       "  payment_type  passenger_count    count       perc\n",
       "0         Card                1  1222928  62.080557\n",
       "1         Card                2   269857  13.698985\n",
       "2         Card                3    66830   3.392549\n",
       "3         Card                4    30763   1.561649\n",
       "4         Card                5    29279   1.486315\n",
       "5         Cash                1   253141  12.850417\n",
       "6         Cash                2    63596   3.228379\n",
       "7         Cash                3    16813   0.853493\n",
       "8         Cash                4    10467   0.531345\n",
       "9         Cash                5     6231   0.316310"
      ]
     },
     "execution_count": 41,
     "metadata": {},
     "output_type": "execute_result"
    }
   ],
   "source": [
    "# Distribution of passesnger count per payment type\n",
    "passenger_count['perc'] = (passenger_count['count'] / passenger_count['count'].sum()) * 100\n",
    "passenger_count"
   ]
  },
  {
   "cell_type": "code",
   "execution_count": 42,
   "id": "fda0c427",
   "metadata": {},
   "outputs": [],
   "source": [
    "pivot_df = passenger_count.pivot_table(index='payment_type', columns = 'passenger_count')['perc'].reset_index()"
   ]
  },
  {
   "cell_type": "code",
   "execution_count": 43,
   "id": "d4187a96",
   "metadata": {},
   "outputs": [
    {
     "data": {
      "image/png": "[encoded data removed]",
      "text/plain": [
       "<Figure size 2000x600 with 1 Axes>"
      ]
     },
     "metadata": {},
     "output_type": "display_data"
    }
   ],
   "source": [
    "fig, ax = plt.subplots(figsize = (20, 6))\n",
    "pivot_df.plot(x = 'payment_type', kind='barh', stacked = True, ax = ax, color = color_palette)\n",
    "\n",
    "for p in ax.patches:\n",
    "    width = p.get_width()\n",
    "    height = p.get_height()\n",
    "    x, y = p.get_xy()\n",
    "    ax.text(x + width / 2, y + height / 2, '{:.0f}%'.format(width), horizontalalignment = 'center', verticalalignment = 'center')"
   ]
  },
  {
   "cell_type": "markdown",
   "id": "6fe13e99",
   "metadata": {},
   "source": [
    "# Passenger Count Analysis\n",
    "\n",
    "\n",
    "- Among card payments, rides with a single passenger (passenger_count = 1) comprise the largest proportion, constituting 62% of all card transactions.\n",
    "- Similarly, cash payments are predominantly associated with single-passenger rides, making up 13% of all cash transactions.\n",
    "- There is a noticeable decrease in the percentage of transactions as the passenger count increases, suggesting that larger groups are less likely to use taxis or may opt for alternative payment methods.\n",
    "- These insights emphasize the importance of considering both payment method and passenger count when analyzing transaction data, as they provide valuable insights into customer behavior and preferences."
   ]
  },
  {
   "cell_type": "markdown",
   "id": "00df0a40",
   "metadata": {},
   "source": [
    "<b> Null Hypothesis: </b> There is no difference in average fare between customers who uses credit cards and customers who uses cash\n",
    "<br><br>\n",
    "<b> Alternative Hypothesis: </b> There is a difference in average fare between customers who uses credit cards and customers who uses cash"
   ]
  },
  {
   "cell_type": "code",
   "execution_count": 44,
   "id": "fd74f39f",
   "metadata": {},
   "outputs": [
    {
     "data": {
      "image/png": "[encoded data removed]",
      "text/plain": [
       "<Figure size 640x480 with 1 Axes>"
      ]
     },
     "metadata": {},
     "output_type": "display_data"
    }
   ],
   "source": [
    "# quantile plot to check if data is normalized\n",
    "sm.qqplot(df['total_amount'], line = '45')\n",
    "plt.show()"
   ]
  },
  {
   "cell_type": "markdown",
   "id": "ac466fcb",
   "metadata": {},
   "source": [
    "As we can see from the Quantile-Quantile plot the data is not normalized. \n",
    "\n",
    "<b>Which Test to choose from?</b>\n",
    "1. Chi-square test: No because the variable is continous.\n",
    "2. ANOVA: When two or more groups are present\n",
    "3. Z-test: Data is not normalized, also population STD is not known\n",
    "\n",
    "We will perform T-test to support our hypothesis"
   ]
  },
  {
   "cell_type": "code",
   "execution_count": 45,
   "id": "cc53a4fb",
   "metadata": {},
   "outputs": [],
   "source": [
    "card_sample = df[df['payment_type'] == 'Card']['total_amount']\n",
    "cash_sample = df[df['payment_type'] == 'Cash']['total_amount']"
   ]
  },
  {
   "cell_type": "code",
   "execution_count": 46,
   "id": "95ca04ec",
   "metadata": {},
   "outputs": [
    {
     "name": "stdout",
     "output_type": "stream",
     "text": [
      "T Statistic 361.4326612227679 p-value 0.0\n"
     ]
    }
   ],
   "source": [
    "t_stats, p_value = st.ttest_ind(a = card_sample, b = cash_sample, equal_var = False)\n",
    "print('T Statistic', t_stats, 'p-value', p_value)"
   ]
  },
  {
   "cell_type": "markdown",
   "id": "12dff611",
   "metadata": {},
   "source": [
    "As p_value is less than our significance value, we will reject our NULL hypothesis"
   ]
  },
  {
   "cell_type": "markdown",
   "id": "3a025c2e",
   "metadata": {},
   "source": [
    "# Hypothesis Testing\n",
    "\n",
    "- Null hypothesis: There is no difference in average fare between customers who use credit cards and customers who use cash.\n",
    "- Alternative hypothesis: There is a difference in average fare between customers who use credit cards and customers who use cash\n",
    "- With a T-statistic of 361.4 and a P-value of less than 0.05, we reject the null hypothesis, suggesting that there is indeed a significant difference in average fare between the two payment methods."
   ]
  },
  {
   "cell_type": "markdown",
   "id": "c9dc4504",
   "metadata": {},
   "source": [
    "# Recommendations\n",
    "\n",
    "- Encourage customers to pay with credit cards to capitalize on the potential for generating more revenue for taxi cab drivers.\n",
    "- Implement strategies such as offering incentives or discounts for credit card transactions to incentivize customers to choose this payment method.\n",
    "- Provide seamless and secure credit card payment options to enhance customer convenience and encourage adoption of this preferred payment method."
   ]
  }
 ],
 "metadata": {
  "kernelspec": {
   "display_name": "Python 3 (ipykernel)",
   "language": "python",
   "name": "python3"
  },
  "language_info": {
   "codemirror_mode": {
    "name": "ipython",
    "version": 3
   },
   "file_extension": ".py",
   "mimetype": "text/x-python",
   "name": "python",
   "nbconvert_exporter": "python",
   "pygments_lexer": "ipython3",
   "version": "3.11.4"
  }
 },
 "nbformat": 4,
 "nbformat_minor": 5
}
